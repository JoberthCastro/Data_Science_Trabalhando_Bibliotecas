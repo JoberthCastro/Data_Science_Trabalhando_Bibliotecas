{
 "cells": [
  {
   "cell_type": "markdown",
   "id": "34720052-9141-48e9-b770-62afd3aa008c",
   "metadata": {},
   "source": [
    "## 1.Escreva um código para instalar a versão 3.7.1 da biblioteca matplotlib.\r\n",
    "\r\n"
   ]
  },
  {
   "cell_type": "code",
   "execution_count": 6,
   "id": "f6db3c01-5fc8-4c89-b0a8-dd4abd0e80dc",
   "metadata": {},
   "outputs": [
    {
     "name": "stderr",
     "output_type": "stream",
     "text": [
      "ERROR: Ignored the following yanked versions: 3.9.1\n",
      "ERROR: Could not find a version that satisfies the requirement matplotlib== (from versions: 0.86, 0.86.1, 0.86.2, 0.91.0, 0.91.1, 1.0.1, 1.1.0, 1.1.1, 1.2.0, 1.2.1, 1.3.0, 1.3.1, 1.4.0, 1.4.1rc1, 1.4.1, 1.4.2, 1.4.3, 1.5.0, 1.5.1, 1.5.2, 1.5.3, 2.0.0b1, 2.0.0b2, 2.0.0b3, 2.0.0b4, 2.0.0rc1, 2.0.0rc2, 2.0.0, 2.0.1, 2.0.2, 2.1.0rc1, 2.1.0, 2.1.1, 2.1.2, 2.2.0rc1, 2.2.0, 2.2.2, 2.2.3, 2.2.4, 2.2.5, 3.0.0rc2, 3.0.0, 3.0.1, 3.0.2, 3.0.3, 3.1.0rc1, 3.1.0rc2, 3.1.0, 3.1.1, 3.1.2, 3.1.3, 3.2.0rc1, 3.2.0rc3, 3.2.0, 3.2.1, 3.2.2, 3.3.0rc1, 3.3.0, 3.3.1, 3.3.2, 3.3.3, 3.3.4, 3.4.0rc1, 3.4.0rc2, 3.4.0rc3, 3.4.0, 3.4.1, 3.4.2, 3.4.3, 3.5.0b1, 3.5.0rc1, 3.5.0, 3.5.1, 3.5.2, 3.5.3, 3.6.0rc1, 3.6.0rc2, 3.6.0, 3.6.1, 3.6.2, 3.6.3, 3.7.0rc1, 3.7.0, 3.7.1, 3.7.2, 3.7.3, 3.7.4, 3.7.5, 3.8.0rc1, 3.8.0, 3.8.1, 3.8.2, 3.8.3, 3.8.4, 3.9.0rc2, 3.9.0, 3.9.1.post1, 3.9.2, 3.9.3, 3.9.4, 3.10.0rc1, 3.10.0)\n",
      "ERROR: No matching distribution found for matplotlib==\n"
     ]
    }
   ],
   "source": [
    "!pip install matplotlib == 3.9.0"
   ]
  },
  {
   "cell_type": "markdown",
   "id": "99aa765a-a01f-4d54-be70-efaeeb53acc3",
   "metadata": {},
   "source": [
    "## 2. Escreva um código para importar a biblioteca numpy com o alias np.\r\n",
    "\r\n"
   ]
  },
  {
   "cell_type": "code",
   "execution_count": 7,
   "id": "363fdcc1-2a9e-4aae-907c-cc929a247e43",
   "metadata": {},
   "outputs": [],
   "source": [
    "import numpy as np"
   ]
  },
  {
   "cell_type": "markdown",
   "id": "c03835e1-7d0d-43eb-ae93-c086864fccd5",
   "metadata": {},
   "source": [
    "## 3. Crie um programa que leia a seguinte lista de números e escolha um número desta aleatoriamente.\r\n",
    "\r\n"
   ]
  },
  {
   "cell_type": "markdown",
   "id": "eaed8482-a96e-418e-bbda-ddca35f7c3ca",
   "metadata": {
    "jp-MarkdownHeadingCollapsed": true
   },
   "source": [
    " lista = [8, 12, 54, 23, 43, 1, 90, 87, 105, 77]"
   ]
  },
  {
   "cell_type": "code",
   "execution_count": 38,
   "id": "58553ed7-9578-4063-bb9b-df40e02b994d",
   "metadata": {},
   "outputs": [
    {
     "name": "stdout",
     "output_type": "stream",
     "text": [
      "87\n"
     ]
    }
   ],
   "source": [
    "from random import choice\n",
    "\n",
    "lista = [8, 12, 54, 23, 43, 1, 90, 87, 105, 77]\n",
    "\n",
    "print(choice(lista))"
   ]
  },
  {
   "cell_type": "markdown",
   "id": "34098920-1f4a-4109-bdd0-1b60848b06bf",
   "metadata": {},
   "source": [
    "## 4. Crie um programa que sorteia, aleatoriamente, um número inteiro positivo menor que 100.\r\n",
    "\r\n"
   ]
  },
  {
   "cell_type": "code",
   "execution_count": 74,
   "id": "436de993-9367-4336-8f09-29fb6bcb4221",
   "metadata": {},
   "outputs": [
    {
     "name": "stdout",
     "output_type": "stream",
     "text": [
      "20\n"
     ]
    }
   ],
   "source": [
    "from random import randrange as rdn\n",
    "\n",
    "print(rdn(0,100,1))"
   ]
  },
  {
   "cell_type": "markdown",
   "id": "fe8f84f2-dcc1-4cf2-9481-ccb0bd2a0766",
   "metadata": {},
   "source": [
    "## 5. Crie um programa que solicite à pessoa usuária digitar dois números inteiros e calcular a potência do 1º número elevado ao 2º.\r\n"
   ]
  },
  {
   "cell_type": "code",
   "execution_count": 75,
   "id": "d436cc4d-1ae5-4b6f-a8f9-9cb6e565a1f4",
   "metadata": {},
   "outputs": [
    {
     "name": "stdin",
     "output_type": "stream",
     "text": [
      "Digite o primeiro número:  3\n",
      "Digite o Segunto número 3\n"
     ]
    },
    {
     "name": "stdout",
     "output_type": "stream",
     "text": [
      "27.0\n"
     ]
    }
   ],
   "source": [
    "from math import pow\n",
    "\n",
    "n1 = int(input(\"Digite o primeiro número: \"))\n",
    "n2 = int(input(\"Digite o Segunto número\"))\n",
    "\n",
    "print(pow(n1,n2))"
   ]
  },
  {
   "cell_type": "markdown",
   "id": "3ba07e15-94ca-46ff-9407-17710a8fedbd",
   "metadata": {},
   "source": [
    "## 6. Um programa deve ser escrito para sortear uma pessoa seguidora de uma rede social para ganhar um prêmio. A lista de participantes é numerada e devemos escolher aleatoriamente um número de acordo com a quantidade de participantes. Peça à pessoa usuária para fornecer o número de participantes do sorteio e devolva para ela o número sorteado.\r\n"
   ]
  },
  {
   "cell_type": "code",
   "execution_count": 79,
   "id": "0ce54336-5034-42ea-aee2-bff7274da907",
   "metadata": {},
   "outputs": [
    {
     "name": "stdin",
     "output_type": "stream",
     "text": [
      "DIGITE O NÚMERO TOTAL DE SEGUIDORES:  10\n"
     ]
    },
    {
     "name": "stdout",
     "output_type": "stream",
     "text": [
      "7\n"
     ]
    }
   ],
   "source": [
    "from random import randrange as rdn\n",
    "\n",
    "n1 = int(input(\"DIGITE O NÚMERO TOTAL DE SEGUIDORES: \"))\n",
    "print(rdn(0,n1,1))\n"
   ]
  },
  {
   "cell_type": "markdown",
   "id": "ec9d9cfe-6535-4328-8ca1-1d63052fafab",
   "metadata": {},
   "source": [
    "## 7. Você recebeu uma demanda para gerar números de token para acessar o aplicativo de uma empresa. O token precisa ser par e variar de 1000 até 9998. Escreva um código que solicita à pessoa usuária o seu nome e exibe uma mensagem junto a esse token gerado aleatoriamente."
   ]
  },
  {
   "cell_type": "code",
   "execution_count": 82,
   "id": "4e671d5c-607a-410e-b9a7-72894cfb39ce",
   "metadata": {},
   "outputs": [
    {
     "name": "stdin",
     "output_type": "stream",
     "text": [
      "Digite o seu nome:  Joberth\n"
     ]
    },
    {
     "name": "stdout",
     "output_type": "stream",
     "text": [
      "Olá, Joberth, o seu token de acesso é 3918! Seja bem-vindo(a)!\n"
     ]
    }
   ],
   "source": [
    "from random import randrange as rdn\n",
    "\n",
    "token = rdn(1000,9999,2)\n",
    "\n",
    "nome = input(\"Digite o seu nome: \")\n",
    "\n",
    "print(f\"Olá, {nome}, o seu token de acesso é {token}! Seja bem-vindo(a)!\")"
   ]
  },
  {
   "cell_type": "markdown",
   "id": "e649ee0f-076a-4a7e-a62f-a55b590ff4f8",
   "metadata": {},
   "source": [
    "## 8. Para diversificar e atrair novos(as) clientes, uma lanchonete criou um item misterioso em seu cardápio chamado \"salada de frutas surpresa\". Neste item, são escolhidas aleatoriamente 3 frutas de uma lista de 12 para compor a salada de frutas da pessoa cliente. Crie o código que faça essa seleção aleatória de acordo com a lista abaixo:"
   ]
  },
  {
   "cell_type": "markdown",
   "id": "6fa55a5f-5539-4e3a-bbe6-8ed145b2084f",
   "metadata": {},
   "source": [
    "frutas = [\"maçã\", \"banana\", \"uva\", \"pêra\", \r\n",
    "          \"manga\", \"coco\", \"melancia\", \"mamão\",\r\n",
    "          \"laranja\", \"abacaxi\", \"kiwi\", \"ameixa\"]"
   ]
  },
  {
   "cell_type": "code",
   "execution_count": 88,
   "id": "63da6829-4d9c-4b36-afc6-f56e00c4e156",
   "metadata": {},
   "outputs": [
    {
     "name": "stdout",
     "output_type": "stream",
     "text": [
      "A sua salada de frutas tem os ingredientes: ['melancia', 'maçã', 'maçã']\n"
     ]
    }
   ],
   "source": [
    "from random import choices\n",
    "\n",
    "frutas = [\"maçã\", \"banana\", \"uva\", \"pêra\", \"manga\", \"coco\", \"melancia\", \"mamão\", \"laranja\", \"abacaxi\", \"kiwi\", \"ameixa\"]\n",
    "\n",
    "print(f\"A sua salada de frutas tem os ingredientes: {choices(frutas,k=3)}\")"
   ]
  },
  {
   "cell_type": "markdown",
   "id": "29348592-cb87-405c-a17b-7290bbb42158",
   "metadata": {},
   "source": [
    "## 9. Você recebeu um desafio de calcular a raiz quadrada de uma lista de números, identificando quais resultaram em um número inteiro. A lista é a seguinte:"
   ]
  },
  {
   "cell_type": "markdown",
   "id": "1afa11d9-3883-4a28-b375-e57d6de5dbf7",
   "metadata": {},
   "source": [
    "numeros = [2, 8, 15, 23, 91, 112, 256]"
   ]
  },
  {
   "cell_type": "code",
   "execution_count": 95,
   "id": "643efa84-b5a0-4936-8d81-7bd4bfd7697e",
   "metadata": {},
   "outputs": [
    {
     "name": "stdout",
     "output_type": "stream",
     "text": [
      "O número 2 não tem raiz inteira\n",
      "O número 8 não tem raiz inteira\n",
      "O número 15 não tem raiz inteira\n",
      "O número 23 não tem raiz inteira\n",
      "O número 91 não tem raiz inteira\n",
      "O número 112 não tem raiz inteira\n",
      "O número 256 tem raiz inteira (16).\n"
     ]
    }
   ],
   "source": [
    "from math import isqrt\n",
    "\n",
    "numeros = [2, 8, 15, 23, 91, 112, 256]\n",
    "\n",
    "for n in numeros:\n",
    "    raiz = isqrt(n)\n",
    "    if raiz * raiz == n:\n",
    "        print(f\"O número {n} tem raiz inteira ({raiz}).\")\n",
    "    else:\n",
    "        print(f\"O número {n} não tem raiz inteira\")\n"
   ]
  },
  {
   "cell_type": "markdown",
   "id": "f3b411e9-3563-4156-972c-6ecf3986b6ba",
   "metadata": {},
   "source": [
    "## 10. Faça um programa para uma loja que vende grama para jardins. Essa loja trabalha com jardins circulares e o preço do metro quadrado da grama é de R$ 25,00. Peça à pessoa usuária o raio da área circular e devolva o valor em reais do quanto precisará pagar."
   ]
  },
  {
   "cell_type": "code",
   "execution_count": 96,
   "id": "8265a01e-afdc-4266-bf97-606c8f93adfa",
   "metadata": {},
   "outputs": [
    {
     "name": "stdin",
     "output_type": "stream",
     "text": [
      "Digite o raio da área circular (em metros):  10\n"
     ]
    },
    {
     "name": "stdout",
     "output_type": "stream",
     "text": [
      "A área do jardim é de 314.16 m².\n",
      "O custo total para cobrir o jardim com grama será de R$ 7853.98.\n"
     ]
    }
   ],
   "source": [
    "from math import pi, pow\n",
    "\n",
    "preco_grama = 25.00\n",
    "\n",
    "raio = float(input(\"Digite o raio da área circular (em metros): \"))\n",
    "\n",
    "area = pi * pow(raio, 2)\n",
    "\n",
    "custo = area * preco_grama\n",
    "\n",
    "print(f\"A área do jardim é de {area:.2f} m².\")\n",
    "print(f\"O custo total para cobrir o jardim com grama será de R$ {custo:.2f}.\")"
   ]
  }
 ],
 "metadata": {
  "kernelspec": {
   "display_name": "Python 3 (ipykernel)",
   "language": "python",
   "name": "python3"
  },
  "language_info": {
   "codemirror_mode": {
    "name": "ipython",
    "version": 3
   },
   "file_extension": ".py",
   "mimetype": "text/x-python",
   "name": "python",
   "nbconvert_exporter": "python",
   "pygments_lexer": "ipython3",
   "version": "3.11.7"
  }
 },
 "nbformat": 4,
 "nbformat_minor": 5
}
